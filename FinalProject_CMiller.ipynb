{
 "cells": [
  {
   "cell_type": "markdown",
   "id": "1cf191ca-782d-4e4e-b3c6-823a21f8c41e",
   "metadata": {},
   "source": [
    "# PROJECT TITLE\n",
    "### Courtney Miller\n",
    "Date"
   ]
  },
  {
   "cell_type": "markdown",
   "id": "a81dccca-58ac-4cbb-acfd-84f4c126f1cf",
   "metadata": {},
   "source": [
    "## Introduction"
   ]
  },
  {
   "cell_type": "markdown",
   "id": "a97af88e-6125-48a7-9aa8-d6cfb0cb47e3",
   "metadata": {},
   "source": [
    "**an overview of your entire project, your research topic and question,\n",
    "your motivation to study this topic, and any prior related work**"
   ]
  },
  {
   "cell_type": "markdown",
   "id": "184d4c70-6dbe-4c32-b9a3-b8ce2fc1fea0",
   "metadata": {},
   "source": [
    "## Methods"
   ]
  },
  {
   "cell_type": "markdown",
   "id": "2ccf0595-21d6-4c2c-b208-8dddef2f919b",
   "metadata": {},
   "source": [
    "**explain your data and your analytical process**"
   ]
  },
  {
   "cell_type": "markdown",
   "id": "874de55a-b92e-4098-9ede-9adec5406ad6",
   "metadata": {},
   "source": [
    "## Results"
   ]
  },
  {
   "cell_type": "markdown",
   "id": "87822b22-5631-44cd-a1cf-496587be3d2a",
   "metadata": {},
   "source": [
    "**lay out your data exploration, your findings, and your visuals**"
   ]
  },
  {
   "cell_type": "markdown",
   "id": "9b1c0bf4-bb5c-42ed-988e-74724a34b542",
   "metadata": {},
   "source": [
    "## Discussion"
   ]
  },
  {
   "cell_type": "markdown",
   "id": "126e094a-0172-42b7-b269-94521f8efaae",
   "metadata": {},
   "source": [
    "**what does your analysis show, what is the big picture, and how are\n",
    "these findings useful?**"
   ]
  },
  {
   "cell_type": "code",
   "execution_count": null,
   "id": "86057a2e-aa51-4db7-877a-5537d0522b3c",
   "metadata": {},
   "outputs": [],
   "source": []
  }
 ],
 "metadata": {
  "kernelspec": {
   "display_name": "Python 3",
   "language": "python",
   "name": "python3"
  },
  "language_info": {
   "codemirror_mode": {
    "name": "ipython",
    "version": 3
   },
   "file_extension": ".py",
   "mimetype": "text/x-python",
   "name": "python",
   "nbconvert_exporter": "python",
   "pygments_lexer": "ipython3",
   "version": "3.8.8"
  }
 },
 "nbformat": 4,
 "nbformat_minor": 5
}
